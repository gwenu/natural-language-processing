{
 "cells": [
  {
   "cell_type": "code",
   "execution_count": 1,
   "metadata": {},
   "outputs": [],
   "source": [
    "from __future__ import print_function, division\n",
    "from future.utils import iteritems\n",
    "from builtins import range\n",
    "\n",
    "import nltk\n",
    "import random\n",
    "import numpy as np\n",
    "\n",
    "from bs4 import BeautifulSoup"
   ]
  },
  {
   "cell_type": "code",
   "execution_count": 7,
   "metadata": {},
   "outputs": [
    {
     "name": "stdout",
     "output_type": "stream",
     "text": [
      "Original: \n",
      "i can't believe the unbelievable prices of flash drives these days.  i just bought this one from wal-mart for $20.00 dollars.  that's way cheaper than on amazon.com.  plus i've noticed that amazon.com has switched to third retailers and some don't even ship to hawaii, or do ship to hawaii at a hefty price.  this switching of amazon having the lowest price to third retailers is really turning me off.  possibly even towards purchasing books. \n",
      "\n",
      "Spun:\n",
      "i do n't used the unbelievable prices of flash drives these days. i also bought only one from wal-mart for $20.00 dollars. that's way cheaper than on amazon.com. plus i have noticed that amazon.com has switched to third retailers and some do n't even ship to hawaii, or do have to hawaii at a hefty price. this brand of amazon having the lowest price to third retailers is really turning me off. possibly even towards purchasing books.\n"
     ]
    }
   ],
   "source": [
    "# Load the reviews\n",
    "positive_reviews = BeautifulSoup(open('data/positive.review').read())\n",
    "positive_reviews = positive_reviews.findAll('review_text')\n",
    "\n",
    "# Extract trigrams and insert into dictionary\n",
    "# (w1, w3) is the key, [ w2 ] are the values\n",
    "trigrams = {}\n",
    "for review in positive_reviews:\n",
    "    s = review.text.lower()\n",
    "    tokens = nltk.tokenize.word_tokenize(s)\n",
    "    for i in range(len(tokens) - 2):\n",
    "        k = (tokens[i], tokens[i+2])\n",
    "        if k not in trigrams:\n",
    "            trigrams[k] = []\n",
    "        trigrams[k].append(tokens[i+1])\n",
    "\n",
    "# Turn each array of middle-words into a probability vector\n",
    "trigram_probabilities = {}\n",
    "for k, words in iteritems(trigrams):\n",
    "    # create a dictionary of word -> count\n",
    "    if len(set(words)) > 1:\n",
    "        # only do this when there are different possibilities for a middle word\n",
    "        d = {}\n",
    "        n = 0\n",
    "        for w in words:\n",
    "            if w not in d:\n",
    "                d[w] = 0\n",
    "            d[w] += 1\n",
    "            n += 1\n",
    "        for w, c in iteritems(d):\n",
    "            d[w] = float(c) / n\n",
    "        trigram_probabilities[k] = d\n",
    "\n",
    "\n",
    "def random_sample(d):\n",
    "    # choose a random sample from dictionary where values are the probabilities\n",
    "    r = random.random()\n",
    "    cumulative = 0\n",
    "    for w, p in iteritems(d):\n",
    "        cumulative += p\n",
    "        if r < cumulative:\n",
    "            return w\n",
    "\n",
    "\n",
    "def test_spinner():\n",
    "    review = random.choice(positive_reviews)\n",
    "    s = review.text.lower()\n",
    "    print(\"Original:\", s)\n",
    "    tokens = nltk.tokenize.word_tokenize(s)\n",
    "    for i in range(len(tokens) - 2):\n",
    "        if random.random() < 0.2: # 20% chance of replacement\n",
    "            k = (tokens[i], tokens[i+2])\n",
    "            if k in trigram_probabilities:\n",
    "                w = random_sample(trigram_probabilities[k])\n",
    "                tokens[i+1] = w\n",
    "    print(\"Spun:\")\n",
    "    print(\" \".join(tokens).replace(\" .\", \".\").replace(\" '\", \"'\").replace(\" ,\", \",\").replace(\"$ \", \"$\").replace(\" !\", \"!\"))\n",
    "\n",
    "\n",
    "if __name__ == '__main__':\n",
    "    test_spinner()"
   ]
  }
 ],
 "metadata": {
  "kernelspec": {
   "display_name": "Python 3",
   "language": "python",
   "name": "python3"
  },
  "language_info": {
   "codemirror_mode": {
    "name": "ipython",
    "version": 3
   },
   "file_extension": ".py",
   "mimetype": "text/x-python",
   "name": "python",
   "nbconvert_exporter": "python",
   "pygments_lexer": "ipython3",
   "version": "3.7.7"
  }
 },
 "nbformat": 4,
 "nbformat_minor": 2
}
